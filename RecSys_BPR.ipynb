{
    "cells": [
        {
            "cell_type": "markdown",
            "metadata": {},
            "source": [
                "Authors' Note: Original code is from Microsoft Recommenders and was modified to meet the objectives of the project.\n"
            ]
        },
        {
            "cell_type": "markdown",
            "metadata": {},
            "source": [
                "<i>Copyright (c) Recommenders contributors.</i>\n",
                "\n",
                "<i>Licensed under the MIT License.</i>\n",
                "\n",
                "Argyriou, A., González-Fierro, M., & Zhang, L. (2020). Microsoft Recommenders: Best Practices for Production-Ready Recommendation Systems. Companion Proceedings of the Web Conference 2020, 50–51. https://doi.org/10.1145/3366424.3382692"
            ]
        },
        {
            "cell_type": "markdown",
            "metadata": {},
            "source": [
                "## Bayesian Personalized Ranking (BPR)\n",
                "\n",
                "The implementation of the model is from [Cornac](https://github.com/PreferredAI/cornac), which is a framework for recommender systems with a focus on models leveraging auxiliary data (e.g., item descriptive text and image, social network, etc)."
            ]
        },
        {
            "cell_type": "markdown",
            "metadata": {},
            "source": [
                "### Global Settings and Imports"
            ]
        },
        {
            "cell_type": "code",
            "execution_count": 1,
            "metadata": {},
            "outputs": [
                {
                    "name": "stderr",
                    "output_type": "stream",
                    "text": [
                        "c:\\Users\\angel\\anaconda3\\envs\\recommenders_env\\lib\\site-packages\\tqdm\\auto.py:21: TqdmWarning: IProgress not found. Please update jupyter and ipywidgets. See https://ipywidgets.readthedocs.io/en/stable/user_install.html\n",
                        "  from .autonotebook import tqdm as notebook_tqdm\n",
                        "c:\\Users\\angel\\anaconda3\\envs\\recommenders_env\\lib\\site-packages\\pandera\\_pandas_deprecated.py:157: FutureWarning: Importing pandas-specific classes and functions from the\n",
                        "top-level pandera module will be **removed in a future version of pandera**.\n",
                        "If you're using pandera to validate pandas objects, we highly recommend updating\n",
                        "your import:\n",
                        "\n",
                        "```\n",
                        "# old import\n",
                        "import pandera as pa\n",
                        "\n",
                        "# new import\n",
                        "import pandera.pandas as pa\n",
                        "```\n",
                        "\n",
                        "If you're using pandera to validate objects from other compatible libraries\n",
                        "like pyspark or polars, see the supported libraries section of the documentation\n",
                        "for more information on how to import pandera:\n",
                        "\n",
                        "https://pandera.readthedocs.io/en/stable/supported_libraries.html\n",
                        "\n",
                        "To disable this warning, set the environment variable:\n",
                        "\n",
                        "```\n",
                        "export DISABLE_PANDERA_IMPORT_WARNING=True\n",
                        "```\n",
                        "\n",
                        "  warnings.warn(_future_warning, FutureWarning)\n"
                    ]
                },
                {
                    "name": "stdout",
                    "output_type": "stream",
                    "text": [
                        "System version: 3.9.21 (main, Dec 11 2024, 16:35:24) [MSC v.1929 64 bit (AMD64)]\n",
                        "Cornac version: 2.3.0\n"
                    ]
                }
            ],
            "source": [
                "import os\n",
                "import sys\n",
                "import cornac\n",
                "import pandas as pd\n",
                "\n",
                "from recommenders.datasets import movielens\n",
                "from recommenders.datasets.python_splitters import python_random_split\n",
                "from recommenders.evaluation.python_evaluation import map, ndcg_at_k, precision_at_k, recall_at_k\n",
                "from recommenders.models.cornac.cornac_utils import predict_ranking\n",
                "from recommenders.utils.timer import Timer\n",
                "from recommenders.utils.constants import SEED\n",
                "from recommenders.utils.notebook_utils import store_metadata\n",
                "\n",
                "print(f\"System version: {sys.version}\")\n",
                "print(f\"Cornac version: {cornac.__version__}\")"
            ]
        },
        {
            "cell_type": "code",
            "execution_count": null,
            "metadata": {
                "tags": [
                    "parameters"
                ]
            },
            "outputs": [],
            "source": [
                "# top k items to recommend\n",
                "TOP_K = 10\n",
                "\n",
                "# Model parameters\n",
                "NUM_FACTORS = 200\n",
                "NUM_EPOCHS = 100"
            ]
        },
        {
            "cell_type": "markdown",
            "metadata": {},
            "source": [
                "### Load and split data\n",
                "\n",
                "Data is randomly split into training and test sets with the ratio of 75/25.\n"
            ]
        },
        {
            "cell_type": "code",
            "execution_count": 242,
            "metadata": {},
            "outputs": [
                {
                    "data": {
                        "text/html": [
                            "<div>\n",
                            "<style scoped>\n",
                            "    .dataframe tbody tr th:only-of-type {\n",
                            "        vertical-align: middle;\n",
                            "    }\n",
                            "\n",
                            "    .dataframe tbody tr th {\n",
                            "        vertical-align: top;\n",
                            "    }\n",
                            "\n",
                            "    .dataframe thead th {\n",
                            "        text-align: right;\n",
                            "    }\n",
                            "</style>\n",
                            "<table border=\"1\" class=\"dataframe\">\n",
                            "  <thead>\n",
                            "    <tr style=\"text-align: right;\">\n",
                            "      <th></th>\n",
                            "      <th>userID</th>\n",
                            "      <th>itemID</th>\n",
                            "      <th>rating</th>\n",
                            "    </tr>\n",
                            "  </thead>\n",
                            "  <tbody>\n",
                            "    <tr>\n",
                            "      <th>0</th>\n",
                            "      <td>1</td>\n",
                            "      <td>103365</td>\n",
                            "      <td>1</td>\n",
                            "    </tr>\n",
                            "    <tr>\n",
                            "      <th>1</th>\n",
                            "      <td>1</td>\n",
                            "      <td>120650</td>\n",
                            "      <td>1</td>\n",
                            "    </tr>\n",
                            "    <tr>\n",
                            "      <th>2</th>\n",
                            "      <td>1</td>\n",
                            "      <td>152587</td>\n",
                            "      <td>1</td>\n",
                            "    </tr>\n",
                            "    <tr>\n",
                            "      <th>3</th>\n",
                            "      <td>1</td>\n",
                            "      <td>165073</td>\n",
                            "      <td>1</td>\n",
                            "    </tr>\n",
                            "    <tr>\n",
                            "      <th>4</th>\n",
                            "      <td>1</td>\n",
                            "      <td>165887</td>\n",
                            "      <td>1</td>\n",
                            "    </tr>\n",
                            "  </tbody>\n",
                            "</table>\n",
                            "</div>"
                        ],
                        "text/plain": [
                            "   userID  itemID  rating\n",
                            "0       1  103365       1\n",
                            "1       1  120650       1\n",
                            "2       1  152587       1\n",
                            "3       1  165073       1\n",
                            "4       1  165887       1"
                        ]
                    },
                    "execution_count": 242,
                    "metadata": {},
                    "output_type": "execute_result"
                }
            ],
            "source": [
                "own_data = pd.read_csv(r'P:\\pCloud Offline\\PLUS\\2nd Sem\\Privacy Engineering\\Data\\Results\\own_k15_20_20.csv')\n",
                "own_data = own_data.drop('timestamp', axis=1)\n",
                "own_data.head()"
            ]
        },
        {
            "cell_type": "code",
            "execution_count": 243,
            "metadata": {},
            "outputs": [],
            "source": [
                "train, test = python_random_split(own_data, 0.75)"
            ]
        },
        {
            "cell_type": "markdown",
            "metadata": {},
            "source": [
                "### Cornac Dataset\n",
                "\n",
                "To work with models implemented in Cornac, we need to construct an object from [Dataset](https://cornac.readthedocs.io/en/latest/data.html#module-cornac.data.dataset) class."
            ]
        },
        {
            "cell_type": "code",
            "execution_count": 244,
            "metadata": {
                "scrolled": true
            },
            "outputs": [
                {
                    "name": "stdout",
                    "output_type": "stream",
                    "text": [
                        "Number of users: 3034\n",
                        "Number of items: 454\n"
                    ]
                }
            ],
            "source": [
                "train_set = cornac.data.Dataset.from_uir(train.itertuples(index=False), seed=SEED)\n",
                "\n",
                "print('Number of users: {}'.format(train_set.num_users))\n",
                "print('Number of items: {}'.format(train_set.num_items))"
            ]
        },
        {
            "cell_type": "markdown",
            "metadata": {},
            "source": [
                "### Train the BPR model"
            ]
        },
        {
            "cell_type": "code",
            "execution_count": 245,
            "metadata": {},
            "outputs": [],
            "source": [
                "bpr = cornac.models.BPR(\n",
                "    k=NUM_FACTORS,\n",
                "    max_iter=NUM_EPOCHS,\n",
                "    learning_rate=0.01,\n",
                "    lambda_reg=0.001,\n",
                "    verbose=True,\n",
                "    seed=SEED\n",
                ")"
            ]
        },
        {
            "cell_type": "code",
            "execution_count": 246,
            "metadata": {},
            "outputs": [
                {
                    "name": "stderr",
                    "output_type": "stream",
                    "text": [
                        "100%|██████████| 100/100 [00:04<00:00, 21.55it/s, correct=98.50%, skipped=8.11%]"
                    ]
                },
                {
                    "name": "stdout",
                    "output_type": "stream",
                    "text": [
                        "Optimization finished!\n",
                        "Took 4.6698 seconds for training.\n"
                    ]
                },
                {
                    "name": "stderr",
                    "output_type": "stream",
                    "text": [
                        "\n"
                    ]
                }
            ],
            "source": [
                "with Timer() as t:\n",
                "    bpr.fit(train_set)\n",
                "print(\"Took {} seconds for training.\".format(t))"
            ]
        },
        {
            "cell_type": "markdown",
            "metadata": {},
            "source": [
                "### Prediction and Evaluation\n",
                "\n",
                "Now that our model is trained, we can produce the ranked lists for recommendation. \n",
                "\n",
                "Note that BPR model is effectively designed for item ranking.  Hence, we only measure the performance using ranking metrics."
            ]
        },
        {
            "cell_type": "code",
            "execution_count": 247,
            "metadata": {},
            "outputs": [
                {
                    "name": "stdout",
                    "output_type": "stream",
                    "text": [
                        "Took 1.7702 seconds for prediction.\n"
                    ]
                }
            ],
            "source": [
                "with Timer() as t:\n",
                "    all_predictions = predict_ranking(bpr, train, usercol='userID', itemcol='itemID', remove_seen=True)\n",
                "print(\"Took {} seconds for prediction.\".format(t))"
            ]
        },
        {
            "cell_type": "code",
            "execution_count": null,
            "metadata": {},
            "outputs": [
                {
                    "name": "stdout",
                    "output_type": "stream",
                    "text": [
                        "MAP:\t0.650337\n",
                        "NDCG:\t0.757584\n",
                        "Precision@K:\t0.541061\n",
                        "Recall@K:\t0.746705\n"
                    ]
                }
            ],
            "source": [
                "k = 10 # this is recsys top-predictions (not to be confused with k-anonymization)\n",
                "eval_map = map(test, all_predictions, col_prediction='prediction', k=k)\n",
                "eval_ndcg = ndcg_at_k(test, all_predictions, col_prediction='prediction', k=k)\n",
                "eval_precision = precision_at_k(test, all_predictions, col_prediction='prediction', k=k)\n",
                "eval_recall = recall_at_k(test, all_predictions, col_prediction='prediction', k=k)\n",
                "\n",
                "print(\"MAP:\\t%f\" % eval_map,\n",
                "      \"NDCG:\\t%f\" % eval_ndcg,\n",
                "      \"Precision@K:\\t%f\" % eval_precision,\n",
                "      \"Recall@K:\\t%f\" % eval_recall, sep='\\n')"
            ]
        },
        {
            "cell_type": "markdown",
            "metadata": {},
            "source": [
                "## References\n",
                "\n",
                "1. Rendle, S., Freudenthaler, C., Gantner, Z., & Schmidt-Thieme, L. (2009, June). BPR: Bayesian personalized ranking from implicit feedback. https://arxiv.org/ftp/arxiv/papers/1205/1205.2618.pdf\n",
                "2. Pan, R., Zhou, Y., Cao, B., Liu, N. N., Lukose, R., Scholz, M., & Yang, Q. (2008, December). One-class collaborative filtering. https://cseweb.ucsd.edu/classes/fa17/cse291-b/reading/04781145.pdf\n",
                "3. **Cornac** - A Comparative Framework for Multimodal Recommender Systems. https://cornac.preferred.ai/"
            ]
        }
    ],
    "metadata": {
        "celltoolbar": "Tags",
        "kernelspec": {
            "display_name": "Recommenders (Python 3.9)",
            "language": "python",
            "name": "recommenders_env"
        },
        "language_info": {
            "codemirror_mode": {
                "name": "ipython",
                "version": 3
            },
            "file_extension": ".py",
            "mimetype": "text/x-python",
            "name": "python",
            "nbconvert_exporter": "python",
            "pygments_lexer": "ipython3",
            "version": "3.9.21"
        }
    },
    "nbformat": 4,
    "nbformat_minor": 2
}
