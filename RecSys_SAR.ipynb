{
    "cells": [
        {
            "cell_type": "markdown",
            "metadata": {},
            "source": [
                "Authors' Note: Original code is from Microsoft Recommenders and was modified to meet the objectives of the project.\n"
            ]
        },
        {
            "cell_type": "markdown",
            "metadata": {},
            "source": [
                "<i>Copyright (c) Recommenders contributors.</i>\n",
                "\n",
                "<i>Licensed under the MIT License.</i>\n",
                "\n",
                "Argyriou, A., González-Fierro, M., & Zhang, L. (2020). Microsoft Recommenders: Best Practices for Production-Ready Recommendation Systems. Companion Proceedings of the Web Conference 2020, 50–51. https://doi.org/10.1145/3366424.3382692"
            ]
        },
        {
            "cell_type": "markdown",
            "metadata": {},
            "source": [
                "### Smart Adaptive Recommendations (SAR) \n",
                "\n",
                "SAR is a fast, scalable, adaptive algorithm for personalized recommendations based on user transaction history. It is powered by understanding the similarity between items, and recommending similar items to those a user has an existing affinity for."
            ]
        },
        {
            "cell_type": "markdown",
            "metadata": {},
            "source": [
                "### Global Settings and Imports## 3 SAR single-node based movie recommender"
            ]
        },
        {
            "cell_type": "code",
            "execution_count": 1,
            "metadata": {},
            "outputs": [
                {
                    "name": "stderr",
                    "output_type": "stream",
                    "text": [
                        "c:\\Users\\angel\\anaconda3\\envs\\recommenders_env\\lib\\site-packages\\pandera\\_pandas_deprecated.py:157: FutureWarning: Importing pandas-specific classes and functions from the\n",
                        "top-level pandera module will be **removed in a future version of pandera**.\n",
                        "If you're using pandera to validate pandas objects, we highly recommend updating\n",
                        "your import:\n",
                        "\n",
                        "```\n",
                        "# old import\n",
                        "import pandera as pa\n",
                        "\n",
                        "# new import\n",
                        "import pandera.pandas as pa\n",
                        "```\n",
                        "\n",
                        "If you're using pandera to validate objects from other compatible libraries\n",
                        "like pyspark or polars, see the supported libraries section of the documentation\n",
                        "for more information on how to import pandera:\n",
                        "\n",
                        "https://pandera.readthedocs.io/en/stable/supported_libraries.html\n",
                        "\n",
                        "To disable this warning, set the environment variable:\n",
                        "\n",
                        "```\n",
                        "export DISABLE_PANDERA_IMPORT_WARNING=True\n",
                        "```\n",
                        "\n",
                        "  warnings.warn(_future_warning, FutureWarning)\n"
                    ]
                },
                {
                    "name": "stdout",
                    "output_type": "stream",
                    "text": [
                        "System version: 3.9.21 (main, Dec 11 2024, 16:35:24) [MSC v.1929 64 bit (AMD64)]\n",
                        "Pandas version: 2.2.3\n",
                        "NumPy version: 1.26.4\n",
                        "SciPy version: 1.13.1\n"
                    ]
                }
            ],
            "source": [
                "import sys\n",
                "import logging\n",
                "import scipy\n",
                "import numpy as np\n",
                "import pandas as pd\n",
                "\n",
                "from recommenders.datasets import movielens\n",
                "from recommenders.datasets.python_splitters import python_stratified_split\n",
                "from recommenders.evaluation.python_evaluation import map_at_k, ndcg_at_k, precision_at_k, recall_at_k\n",
                "from recommenders.models.sar import SAR\n",
                "from recommenders.utils.notebook_utils import store_metadata\n",
                "\n",
                "print(f\"System version: {sys.version}\")\n",
                "print(f\"Pandas version: {pd.__version__}\")\n",
                "print(f\"NumPy version: {np.__version__}\")\n",
                "print(f\"SciPy version: {scipy.__version__}\")"
            ]
        },
        {
            "cell_type": "code",
            "execution_count": null,
            "metadata": {
                "tags": [
                    "parameters"
                ]
            },
            "outputs": [],
            "source": [
                "# top k items to recommend\n",
                "TOP_K = 10"
            ]
        },
        {
            "cell_type": "code",
            "execution_count": 3,
            "metadata": {},
            "outputs": [],
            "source": [
                "# set log level to INFO\n",
                "logging.basicConfig(\n",
                "    level=logging.DEBUG,\n",
                "    format=\"%(asctime)s %(levelname)-8s %(message)s\",\n",
                "    datefmt=\"%Y-%m-%d %H:%M:%S\",\n",
                ")"
            ]
        },
        {
            "cell_type": "markdown",
            "metadata": {},
            "source": [
                "### Load Data\n"
            ]
        },
        {
            "cell_type": "code",
            "execution_count": 15,
            "metadata": {},
            "outputs": [
                {
                    "data": {
                        "text/html": [
                            "<div>\n",
                            "<style scoped>\n",
                            "    .dataframe tbody tr th:only-of-type {\n",
                            "        vertical-align: middle;\n",
                            "    }\n",
                            "\n",
                            "    .dataframe tbody tr th {\n",
                            "        vertical-align: top;\n",
                            "    }\n",
                            "\n",
                            "    .dataframe thead th {\n",
                            "        text-align: right;\n",
                            "    }\n",
                            "</style>\n",
                            "<table border=\"1\" class=\"dataframe\">\n",
                            "  <thead>\n",
                            "    <tr style=\"text-align: right;\">\n",
                            "      <th></th>\n",
                            "      <th>userID</th>\n",
                            "      <th>itemID</th>\n",
                            "      <th>rating</th>\n",
                            "      <th>timestamp</th>\n",
                            "    </tr>\n",
                            "  </thead>\n",
                            "  <tbody>\n",
                            "    <tr>\n",
                            "      <th>0</th>\n",
                            "      <td>0</td>\n",
                            "      <td>5588</td>\n",
                            "      <td>1</td>\n",
                            "      <td>0</td>\n",
                            "    </tr>\n",
                            "    <tr>\n",
                            "      <th>1</th>\n",
                            "      <td>0</td>\n",
                            "      <td>8034</td>\n",
                            "      <td>1</td>\n",
                            "      <td>0</td>\n",
                            "    </tr>\n",
                            "    <tr>\n",
                            "      <th>2</th>\n",
                            "      <td>0</td>\n",
                            "      <td>9012</td>\n",
                            "      <td>1</td>\n",
                            "      <td>0</td>\n",
                            "    </tr>\n",
                            "    <tr>\n",
                            "      <th>3</th>\n",
                            "      <td>0</td>\n",
                            "      <td>9014</td>\n",
                            "      <td>1</td>\n",
                            "      <td>0</td>\n",
                            "    </tr>\n",
                            "    <tr>\n",
                            "      <th>4</th>\n",
                            "      <td>0</td>\n",
                            "      <td>12589</td>\n",
                            "      <td>1</td>\n",
                            "      <td>0</td>\n",
                            "    </tr>\n",
                            "  </tbody>\n",
                            "</table>\n",
                            "</div>"
                        ],
                        "text/plain": [
                            "   userID  itemID  rating  timestamp\n",
                            "0       0    5588       1          0\n",
                            "1       0    8034       1          0\n",
                            "2       0    9012       1          0\n",
                            "3       0    9014       1          0\n",
                            "4       0   12589       1          0"
                        ]
                    },
                    "execution_count": 15,
                    "metadata": {},
                    "output_type": "execute_result"
                }
            ],
            "source": [
                "own_data = pd.read_csv(r'P:\\pCloud Offline\\PLUS\\2nd Sem\\Privacy Engineering\\Data\\Results\\mondrian_k15_100_100.csv')\n",
                "own_data.head()"
            ]
        },
        {
            "cell_type": "markdown",
            "metadata": {},
            "source": [
                "### Split the data using the python random splitter"
            ]
        },
        {
            "cell_type": "code",
            "execution_count": null,
            "metadata": {},
            "outputs": [],
            "source": [
                "header = {\n",
                "    \"col_user\": \"userID\",\n",
                "    \"col_item\": \"itemID\",\n",
                "    \"col_rating\": \"rating\",\n",
                "    \"col_timestamp\": \"timestamp\",\n",
                "    \"col_prediction\": \"Prediction\",\n",
                "}\n",
                "\n",
                "train, test = python_stratified_split(\n",
                "    own_data, ratio=0.75, col_user=header[\"col_user\"], col_item=header[\"col_item\"], seed=42\n",
                ")\n"
            ]
        },
        {
            "cell_type": "code",
            "execution_count": 19,
            "metadata": {},
            "outputs": [],
            "source": [
                "model = SAR(\n",
                "    similarity_type=\"jaccard\", \n",
                "    time_decay_coefficient=30, \n",
                "    time_now=None, \n",
                "    timedecay_formula=True, \n",
                "    **header\n",
                ")"
            ]
        },
        {
            "cell_type": "code",
            "execution_count": 20,
            "metadata": {},
            "outputs": [
                {
                    "name": "stderr",
                    "output_type": "stream",
                    "text": [
                        "2025-06-21 11:35:31 INFO     Collecting user affinity matrix\n",
                        "2025-06-21 11:35:31 INFO     Calculating time-decayed affinities\n",
                        "2025-06-21 11:35:31 INFO     Creating index columns\n",
                        "2025-06-21 11:35:31 INFO     Building user affinity sparse matrix\n",
                        "2025-06-21 11:35:31 INFO     Calculating item co-occurrence\n",
                        "2025-06-21 11:35:31 INFO     Calculating item similarity\n",
                        "2025-06-21 11:35:31 INFO     Using jaccard based similarity\n",
                        "2025-06-21 11:35:31 INFO     Done training\n"
                    ]
                }
            ],
            "source": [
                "model.fit(train)"
            ]
        },
        {
            "cell_type": "code",
            "execution_count": 21,
            "metadata": {
                "scrolled": true
            },
            "outputs": [
                {
                    "name": "stderr",
                    "output_type": "stream",
                    "text": [
                        "2025-06-21 11:35:31 INFO     Calculating recommendation scores\n",
                        "2025-06-21 11:35:31 INFO     Removing seen items\n"
                    ]
                }
            ],
            "source": [
                "top_k = model.recommend_k_items(test, top_k=TOP_K, remove_seen=True)"
            ]
        },
        {
            "cell_type": "markdown",
            "metadata": {},
            "source": [
                "### Evaluate the results\n"
            ]
        },
        {
            "cell_type": "code",
            "execution_count": 23,
            "metadata": {},
            "outputs": [],
            "source": [
                "# all ranking metrics have the same arguments\n",
                "args = [test, top_k]\n",
                "kwargs = dict(\n",
                "    col_user=\"userID\",\n",
                "    col_item=\"itemID\",\n",
                "    col_rating=\"rating\",\n",
                "    col_prediction=\"Prediction\",\n",
                "    relevancy_method=\"top_k\",\n",
                "    k=TOP_K,\n",
                ")\n",
                "\n",
                "eval_map = map_at_k(*args, **kwargs)\n",
                "eval_ndcg = ndcg_at_k(*args, **kwargs)\n",
                "eval_precision = precision_at_k(*args, **kwargs)\n",
                "eval_recall = recall_at_k(*args, **kwargs)"
            ]
        },
        {
            "cell_type": "code",
            "execution_count": 24,
            "metadata": {},
            "outputs": [
                {
                    "name": "stdout",
                    "output_type": "stream",
                    "text": [
                        "Model:\n",
                        "Top K:\t\t 10\n",
                        "MAP:\t\t 0.932613\n",
                        "NDCG:\t\t 0.956084\n",
                        "Precision@K:\t 0.932075\n",
                        "Recall@K:\t 0.514107\n"
                    ]
                }
            ],
            "source": [
                "print(f\"Model:\",\n",
                "      f\"Top K:\\t\\t {TOP_K}\",\n",
                "      f\"MAP:\\t\\t {eval_map:f}\",\n",
                "      f\"NDCG:\\t\\t {eval_ndcg:f}\",\n",
                "      f\"Precision@K:\\t {eval_precision:f}\",\n",
                "      f\"Recall@K:\\t {eval_recall:f}\", sep='\\n')"
            ]
        }
    ],
    "metadata": {
        "celltoolbar": "Tags",
        "kernelspec": {
            "display_name": "Recommenders (Python 3.9)",
            "language": "python",
            "name": "recommenders_env"
        },
        "language_info": {
            "codemirror_mode": {
                "name": "ipython",
                "version": 3
            },
            "file_extension": ".py",
            "mimetype": "text/x-python",
            "name": "python",
            "nbconvert_exporter": "python",
            "pygments_lexer": "ipython3",
            "version": "3.9.21"
        }
    },
    "nbformat": 4,
    "nbformat_minor": 2
}
